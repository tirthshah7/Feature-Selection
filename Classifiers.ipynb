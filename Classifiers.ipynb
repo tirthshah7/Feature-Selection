{
 "cells": [
  {
   "cell_type": "code",
   "execution_count": 1,
   "id": "a68e4d41",
   "metadata": {},
   "outputs": [],
   "source": [
    "# Classifier = K-Nearest Neighbour \n",
    "\n",
    "#Importing the libraries\n",
    "import pandas as pd\n",
    "from sklearn.model_selection import train_test_split\n",
    "from sklearn.preprocessing import StandardScaler\n",
    "from sklearn.neighbors import KNeighborsClassifier\n",
    "from sklearn.ensemble import RandomForestClassifier\n",
    "from sklearn.neural_network import MLPClassifier \n",
    "from sklearn.metrics import confusion_matrix, accuracy_score\n",
    "from sklearn.metrics import classification_report\n",
    "from sklearn import metrics\n",
    "from sklearn.model_selection import StratifiedKFold,cross_val_score"
   ]
  },
  {
   "cell_type": "code",
   "execution_count": 2,
   "id": "ac06cbe5",
   "metadata": {},
   "outputs": [],
   "source": [
    "# Read the File\n",
    "dataset = pd.read_csv('D:\\TIRTH\\Windsor Study Material\\SEM-3\\AML\\Project\\Datasets\\D1.csv')\n",
    "X = dataset.iloc[:, :-1].values\n",
    "y = dataset.iloc[:, -1].values"
   ]
  },
  {
   "cell_type": "code",
   "execution_count": 3,
   "id": "55fd394a",
   "metadata": {},
   "outputs": [],
   "source": [
    "skf = StratifiedKFold(n_splits=10)\n",
    "skf\n",
    "for train_index, test_index in skf.split(X, y):\n",
    "    #print(\"TRAIN:\", train_index, \"TEST:\", test_index)\n",
    "    X_train, X_test = X[train_index], X[test_index]\n",
    "    y_train, y_test = y[train_index], y[test_index]"
   ]
  },
  {
   "cell_type": "code",
   "execution_count": 4,
   "id": "72e2352c",
   "metadata": {},
   "outputs": [],
   "source": [
    "# Applying feature scaling on test and train features \n",
    "sc = StandardScaler()\n",
    "X_train = sc.fit_transform(X_train)\n",
    "X_test = sc.transform(X_test)"
   ]
  },
  {
   "cell_type": "code",
   "execution_count": 5,
   "id": "4d3edce1",
   "metadata": {},
   "outputs": [
    {
     "data": {
      "text/plain": [
       "0.5283018867924528"
      ]
     },
     "execution_count": 5,
     "metadata": {},
     "output_type": "execute_result"
    }
   ],
   "source": [
    "# K Nearest Neighbour\n",
    "knn = KNeighborsClassifier(n_neighbors = 8, metric = 'minkowski', p = 2)\n",
    "knn.fit(X_train, y_train)\n",
    "knn.score(X_test, y_test)"
   ]
  },
  {
   "cell_type": "code",
   "execution_count": 6,
   "id": "84476bca",
   "metadata": {},
   "outputs": [
    {
     "data": {
      "text/plain": [
       "0.6849628359062321"
      ]
     },
     "execution_count": 6,
     "metadata": {},
     "output_type": "execute_result"
    }
   ],
   "source": [
    "# Random Forest\n",
    "rf = RandomForestClassifier(n_estimators = 40, criterion = 'entropy', random_state = 0)\n",
    "rf.fit(X_train,y_train)\n",
    "rf.score(X_test, y_test)"
   ]
  },
  {
   "cell_type": "code",
   "execution_count": 10,
   "id": "55e8b99a",
   "metadata": {},
   "outputs": [
    {
     "name": "stderr",
     "output_type": "stream",
     "text": [
      "c:\\users\\tirth\\appdata\\local\\programs\\python\\python38-32\\lib\\site-packages\\sklearn\\neural_network\\_multilayer_perceptron.py:699: UserWarning: Training interrupted by user.\n",
      "  warnings.warn(\"Training interrupted by user.\")\n"
     ]
    },
    {
     "name": "stdout",
     "output_type": "stream",
     "text": [
      "Model Accuracy: 16.295025728987994\n"
     ]
    }
   ],
   "source": [
    "# Multi Layer Perceptron\n",
    "mlp = MLPClassifier(hidden_layer_sizes=(10, 10, 10), max_iter=1000) \n",
    "mlp.fit(X_train, y_train)\n",
    "mlp.score(X_test, y_test)\n",
    "predictions = mlp.predict(X_test)\n",
    "#print(classification_report(y_test,predictions))\n",
    "y_pred = mlp.predict(X_test)\n",
    "print(\"Model Accuracy:\", accuracy_score(y_test, y_pred)*100)"
   ]
  },
  {
   "cell_type": "code",
   "execution_count": null,
   "id": "c8a0db94",
   "metadata": {},
   "outputs": [],
   "source": [
    "def get_score(model, X_train, X_test, y_train, y_test):\n",
    "    model.fit(X_train, y_train)\n",
    "    return model.score(X_test, y_test)"
   ]
  },
  {
   "cell_type": "code",
   "execution_count": null,
   "id": "ef29bb6c",
   "metadata": {},
   "outputs": [],
   "source": [
    "from sklearn.model_selection import StratifiedKFold\n",
    "folds = StratifiedKFold(n_splits=3)\n",
    "\n",
    "scores_knn = []\n",
    "scores_rf = []\n",
    "scores_mlp = []\n",
    "\n",
    "for train_index, test_index in folds.split(digits.data,digits.target):\n",
    "    X_train, X_test, y_train, y_test = digits.data[train_index], digits.data[test_index], \\\n",
    "                                       digits.target[train_index], digits.target[test_index]\n",
    "    scores_knn.append(get_score(KNeighborsClassifier(n_neighbors = 8, metric = 'minkowski', p = 2), X_train, X_test, y_train, y_test))  \n",
    "    scores_rf.append(get_score(RandomForestClassifier(n_estimators = 40, criterion = 'entropy', random_state = 0), X_train, X_test, y_train, y_test))\n",
    "    scores_mlp.append(get_score(MLPClassifier(hidden_layer_sizes=(10, 10, 10), max_iter=1000), X_train, X_test, y_train, y_test))"
   ]
  },
  {
   "cell_type": "code",
   "execution_count": null,
   "id": "e6fdf47c",
   "metadata": {},
   "outputs": [],
   "source": [
    "scores_knn\n",
    "scores_rf\n",
    "scores_mlp"
   ]
  },
  {
   "cell_type": "code",
   "execution_count": 8,
   "id": "92d6fb56",
   "metadata": {},
   "outputs": [
    {
     "name": "stdout",
     "output_type": "stream",
     "text": [
      "K-Folds:  [0.73142857 0.71555556 0.73587302 0.73650794 0.74603175 0.72253968\n",
      " 0.73650794 0.72126984 0.7352381  0.72253968]\n"
     ]
    }
   ],
   "source": [
    "#cv = StratifiedKFold(n_splits=10, shuffle=True, random_state=1)\n",
    "#Accuracy_scores = cross_val_score(classifier, X_train, y_train, scoring='accuracy', cv=cv, n_jobs=-1)\n",
    "#print(\"K-Folds: \", Accuracy_scores)"
   ]
  },
  {
   "cell_type": "code",
   "execution_count": 9,
   "id": "7e9d3335",
   "metadata": {},
   "outputs": [
    {
     "name": "stdout",
     "output_type": "stream",
     "text": [
      "[[14  0  0 ...  0  0  0]\n",
      " [ 0 17  0 ...  0  0  0]\n",
      " [ 6  0  1 ...  0  0  0]\n",
      " ...\n",
      " [ 0  0  0 ... 25  0  0]\n",
      " [ 0  0  0 ...  0 25  0]\n",
      " [ 0  0  0 ...  0  0 25]]\n"
     ]
    }
   ],
   "source": [
    "# Making the Confusion Matrix\n",
    "#y_pred = classifier.predict(X_test)\n",
    "#cm = confusion_matrix(y_test, y_pred)\n",
    "#print(cm)"
   ]
  },
  {
   "cell_type": "code",
   "execution_count": 10,
   "id": "37087889",
   "metadata": {},
   "outputs": [
    {
     "name": "stdout",
     "output_type": "stream",
     "text": [
      "              precision    recall  f1-score   support\n",
      "\n",
      "           1       0.09      0.58      0.15        24\n",
      "           2       0.36      0.68      0.47        25\n",
      "           3       0.03      0.04      0.04        25\n",
      "           4       0.58      0.28      0.38        25\n",
      "           5       0.86      0.24      0.38        25\n",
      "           6       0.31      0.36      0.33        25\n",
      "           7       0.09      0.12      0.10        25\n",
      "           8       0.90      0.76      0.83        25\n",
      "           9       0.14      0.08      0.10        25\n",
      "          10       0.05      0.12      0.07        25\n",
      "          11       0.21      0.16      0.18        25\n",
      "          12       0.46      0.64      0.53        25\n",
      "          13       0.10      0.08      0.09        25\n",
      "          14       0.23      0.12      0.16        25\n",
      "          15       0.05      0.04      0.04        25\n",
      "          16       0.07      0.08      0.07        25\n",
      "          17       0.24      0.52      0.33        25\n",
      "          18       0.09      0.12      0.10        25\n",
      "          19       0.15      0.32      0.21        25\n",
      "          20       0.28      0.20      0.23        25\n",
      "          21       0.34      0.44      0.39        25\n",
      "          22       0.20      0.16      0.18        25\n",
      "          23       0.50      0.08      0.14        25\n",
      "          24       0.16      0.12      0.14        25\n",
      "          25       0.08      0.12      0.09        25\n",
      "          26       0.10      0.08      0.09        25\n",
      "          27       1.00      0.88      0.94        25\n",
      "          28       0.38      0.20      0.26        25\n",
      "          29       0.09      0.04      0.06        25\n",
      "          30       0.38      0.12      0.18        25\n",
      "          31       0.00      0.00      0.00        25\n",
      "          32       0.00      0.00      0.00        25\n",
      "          33       1.00      0.48      0.65        25\n",
      "          34       0.94      0.64      0.76        25\n",
      "          35       1.00      0.16      0.28        25\n",
      "          36       1.00      0.96      0.98        25\n",
      "          37       0.29      0.16      0.21        25\n",
      "          38       1.00      0.48      0.65        25\n",
      "          39       1.00      0.40      0.57        25\n",
      "          40       0.78      1.00      0.88        25\n",
      "          41       1.00      1.00      1.00        25\n",
      "          42       1.00      1.00      1.00        25\n",
      "          43       1.00      1.00      1.00        25\n",
      "          44       1.00      1.00      1.00        25\n",
      "          45       1.00      1.00      1.00        25\n",
      "          46       1.00      1.00      1.00        25\n",
      "          47       1.00      0.12      0.21        25\n",
      "          48       1.00      1.00      1.00        25\n",
      "          49       1.00      0.48      0.65        25\n",
      "          50       0.78      1.00      0.88        25\n",
      "          51       1.00      0.16      0.28        25\n",
      "          52       0.64      1.00      0.78        25\n",
      "          53       1.00      0.80      0.89        25\n",
      "          54       0.57      0.84      0.68        25\n",
      "          55       1.00      0.32      0.48        25\n",
      "          56       0.74      1.00      0.85        25\n",
      "          57       0.81      1.00      0.89        25\n",
      "          58       0.63      0.76      0.69        25\n",
      "          59       1.00      1.00      1.00        25\n",
      "          60       0.76      1.00      0.86        25\n",
      "          61       0.94      0.68      0.79        25\n",
      "          62       0.41      0.52      0.46        25\n",
      "          63       1.00      0.24      0.39        25\n",
      "          64       1.00      1.00      1.00        25\n",
      "          65       1.00      1.00      1.00        25\n",
      "          66       1.00      1.00      1.00        25\n",
      "          67       1.00      1.00      1.00        25\n",
      "          68       1.00      1.00      1.00        25\n",
      "          69       1.00      1.00      1.00        25\n",
      "          70       1.00      1.00      1.00        25\n",
      "\n",
      "    accuracy                           0.53      1749\n",
      "   macro avg       0.61      0.53      0.53      1749\n",
      "weighted avg       0.61      0.53      0.53      1749\n",
      "\n",
      "Model Accuracy: 52.83018867924528\n"
     ]
    }
   ],
   "source": [
    "# Print a classification report\n",
    "#print(metrics.classification_report(y_test,y_pred))\n",
    "#print(\"Model Accuracy:\", accuracy_score(y_test, y_pred)*100)"
   ]
  },
  {
   "cell_type": "code",
   "execution_count": null,
   "id": "5c230ea1",
   "metadata": {},
   "outputs": [],
   "source": []
  },
  {
   "cell_type": "code",
   "execution_count": null,
   "id": "180499ac",
   "metadata": {},
   "outputs": [],
   "source": []
  }
 ],
 "metadata": {
  "kernelspec": {
   "display_name": "Python 3 (ipykernel)",
   "language": "python",
   "name": "python3"
  },
  "language_info": {
   "codemirror_mode": {
    "name": "ipython",
    "version": 3
   },
   "file_extension": ".py",
   "mimetype": "text/x-python",
   "name": "python",
   "nbconvert_exporter": "python",
   "pygments_lexer": "ipython3",
   "version": "3.8.0"
  }
 },
 "nbformat": 4,
 "nbformat_minor": 5
}
